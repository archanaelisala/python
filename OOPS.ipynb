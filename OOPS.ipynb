{
 "cells": [
  {
   "cell_type": "markdown",
   "metadata": {},
   "source": [
    "# python object class"
   ]
  },
  {
   "cell_type": "code",
   "execution_count": 2,
   "metadata": {},
   "outputs": [],
   "source": [
    "#class creation\n",
    "class student:\n",
    "    id = 540\n",
    "    name = \"archana\"\n",
    "    def display(self):\n",
    "        print(self.id,self.name)"
   ]
  },
  {
   "cell_type": "code",
   "execution_count": 3,
   "metadata": {},
   "outputs": [
    {
     "name": "stdout",
     "output_type": "stream",
     "text": [
      "540 archana\n"
     ]
    }
   ],
   "source": [
    "#object\n",
    "class student:\n",
    "    id = 540\n",
    "    name = \"archana\"\n",
    "    def display(self):\n",
    "        print(self.id,self.name)\n",
    "std = student() #obj is to access the class atribtes and allctng mem to the cla\n",
    "std.display()"
   ]
  },
  {
   "cell_type": "code",
   "execution_count": 4,
   "metadata": {},
   "outputs": [
    {
     "name": "stdout",
     "output_type": "stream",
     "text": [
      "ID:540\n",
      "Name:archana\n"
     ]
    }
   ],
   "source": [
    "#object\n",
    "class student:\n",
    "    id = 540\n",
    "    name = \"archana\"\n",
    "    def display(self):\n",
    "        print(\"ID:%d\\nName:%s\"%(self.id,self.name))\n",
    "std = student() #obj is to access the class atribtes and allctng mem to the cla\n",
    "std.display()"
   ]
  },
  {
   "cell_type": "markdown",
   "metadata": {},
   "source": [
    "# python constructor"
   ]
  },
  {
   "cell_type": "code",
   "execution_count": 9,
   "metadata": {},
   "outputs": [
    {
     "name": "stdout",
     "output_type": "stream",
     "text": [
      "python avinash\n",
      "webD avinash\n"
     ]
    }
   ],
   "source": [
    "class apssdc:\n",
    "    def __init__(self,stream,coord): #init acts like constructor\n",
    "        self.stream = stream\n",
    "        self.coord = coord\n",
    "    def show(self):\n",
    "        print(self.stream,self.coord)\n",
    "ap = apssdc('python','avinash')\n",
    "ap1 = apssdc('webD','avinash')\n",
    "ap.show()\n",
    "ap1.show()"
   ]
  },
  {
   "cell_type": "code",
   "execution_count": 10,
   "metadata": {},
   "outputs": [
    {
     "name": "stdout",
     "output_type": "stream",
     "text": [
      "python \n",
      "avinash\n",
      "python  avinash\n",
      "python  avinash\n"
     ]
    }
   ],
   "source": [
    "branch = input()\n",
    "co = input()\n",
    "class apssdc:\n",
    "    def __init__(self,stream,coord):\n",
    "        self.stream = stream\n",
    "        self.coord = coord\n",
    "    def show(self):\n",
    "        print(self.stream,self.coord)\n",
    "ap = apssdc(branch,co)\n",
    "#ap1 = apssdc(branch,co)\n",
    "ap.show()\n",
    "ap1.show()"
   ]
  },
  {
   "cell_type": "code",
   "execution_count": 12,
   "metadata": {},
   "outputs": [
    {
     "name": "stdout",
     "output_type": "stream",
     "text": [
      "objects count is 4\n"
     ]
    }
   ],
   "source": [
    "#objects counr\n",
    "class obj:\n",
    "    count = 0\n",
    "    def __init__(self):\n",
    "        obj.count = obj.count+1\n",
    "o = obj()\n",
    "o1 = obj()\n",
    "o2 = obj()\n",
    "o3 = obj()\n",
    "print(\"objects count is\",obj.count)\n",
    "        "
   ]
  },
  {
   "cell_type": "markdown",
   "metadata": {},
   "source": [
    "1. parameterized constructor\n",
    "2. non parameterized constructor"
   ]
  },
  {
   "cell_type": "code",
   "execution_count": 16,
   "metadata": {},
   "outputs": [
    {
     "name": "stdout",
     "output_type": "stream",
     "text": [
      "id:540\n",
      "Name:Archana\n"
     ]
    }
   ],
   "source": [
    "# parameterized constructor\n",
    "class Student:\n",
    "    def __init__(self,name,id):\n",
    "        self.name = name\n",
    "        self.id = id\n",
    "    def values(self):\n",
    "        print(\"id:%d\\nName:%s\"%(self.id,self.name))\n",
    "std = Student('Archana',540)\n",
    "std.values()"
   ]
  },
  {
   "cell_type": "code",
   "execution_count": 23,
   "metadata": {},
   "outputs": [
    {
     "name": "stdout",
     "output_type": "stream",
     "text": [
      "non parameterized\n",
      "num:540\n",
      "Name:árchana\n"
     ]
    }
   ],
   "source": [
    "# parameterized constructor\n",
    "class Student:\n",
    "    def __init__(self):\n",
    "        print(\"non parameterized\")\n",
    "    def values(self,num,name):\n",
    "        print(\"num:%d\\nName:%s\"%(name,num))\n",
    "std = Student()\n",
    "std.values('árchana',540)"
   ]
  },
  {
   "cell_type": "code",
   "execution_count": 25,
   "metadata": {},
   "outputs": [
    {
     "name": "stdout",
     "output_type": "stream",
     "text": [
      "Archana 540\n"
     ]
    }
   ],
   "source": [
    "#default constructorresult\n",
    "class Student:\n",
    "    id = 540\n",
    "    name = 'Archana'\n",
    "    def result(self):\n",
    "        print(self.name,self.id)\n",
    "st1 = Student()\n",
    "st1.result()"
   ]
  },
  {
   "cell_type": "code",
   "execution_count": 26,
   "metadata": {},
   "outputs": [
    {
     "name": "stdout",
     "output_type": "stream",
     "text": [
      "The second contructor\n"
     ]
    }
   ],
   "source": [
    "class Student:  \n",
    "    def __init__(self):  \n",
    "        print(\"The First Constructor\")  \n",
    "    def __init__(self):  \n",
    "        print(\"The second contructor\")  \n",
    "\n",
    "        \n",
    "st = Student()  "
   ]
  },
  {
   "cell_type": "markdown",
   "metadata": {},
   "source": [
    "# built in class functions\n",
    "1\tgetattr(obj,name,default)\tIt is used to access the attribute of the object.\n",
    "2\tsetattr(obj, name,value)\tIt is used to set a particular value to the specific attribute of an object.\n",
    "3\tdelattr(obj, name)\tIt is used to delete a specific attribute.\n",
    "4\thasattr(obj, name)\tIt returns true if the object contains some specific attribute."
   ]
  },
  {
   "cell_type": "code",
   "execution_count": 28,
   "metadata": {},
   "outputs": [
    {
     "name": "stdout",
     "output_type": "stream",
     "text": [
      "Archana\n"
     ]
    }
   ],
   "source": [
    "class MyDetails:\n",
    "    def __init__(self,name,branch,id):\n",
    "        self.name = name\n",
    "        self.branch = branch\n",
    "        self.id = id\n",
    "my = MyDetails('Archana','CSE',540)\n",
    "print(getattr(my,'name'))"
   ]
  },
  {
   "cell_type": "code",
   "execution_count": 29,
   "metadata": {},
   "outputs": [
    {
     "name": "stdout",
     "output_type": "stream",
     "text": [
      "None\n"
     ]
    }
   ],
   "source": [
    "print(setattr(my,'name','anu'))"
   ]
  },
  {
   "cell_type": "code",
   "execution_count": 30,
   "metadata": {},
   "outputs": [
    {
     "name": "stdout",
     "output_type": "stream",
     "text": [
      "anu\n"
     ]
    }
   ],
   "source": [
    "print(getattr(my,'name'))"
   ]
  },
  {
   "cell_type": "code",
   "execution_count": 31,
   "metadata": {},
   "outputs": [
    {
     "name": "stdout",
     "output_type": "stream",
     "text": [
      "540\n"
     ]
    }
   ],
   "source": [
    "print(getattr(my,'id'))"
   ]
  },
  {
   "cell_type": "code",
   "execution_count": 32,
   "metadata": {},
   "outputs": [
    {
     "name": "stdout",
     "output_type": "stream",
     "text": [
      "None\n"
     ]
    }
   ],
   "source": [
    "print(delattr(my,'id'))"
   ]
  },
  {
   "cell_type": "code",
   "execution_count": 33,
   "metadata": {},
   "outputs": [
    {
     "ename": "AttributeError",
     "evalue": "'MyDetails' object has no attribute 'id'",
     "output_type": "error",
     "traceback": [
      "\u001b[1;31m---------------------------------------------------------------------------\u001b[0m",
      "\u001b[1;31mAttributeError\u001b[0m                            Traceback (most recent call last)",
      "\u001b[1;32m<ipython-input-33-c1a5f307ec0b>\u001b[0m in \u001b[0;36m<module>\u001b[1;34m\u001b[0m\n\u001b[1;32m----> 1\u001b[1;33m \u001b[0mprint\u001b[0m\u001b[1;33m(\u001b[0m\u001b[0mgetattr\u001b[0m\u001b[1;33m(\u001b[0m\u001b[0mmy\u001b[0m\u001b[1;33m,\u001b[0m\u001b[1;34m'id'\u001b[0m\u001b[1;33m)\u001b[0m\u001b[1;33m)\u001b[0m\u001b[1;33m\u001b[0m\u001b[1;33m\u001b[0m\u001b[0m\n\u001b[0m",
      "\u001b[1;31mAttributeError\u001b[0m: 'MyDetails' object has no attribute 'id'"
     ]
    }
   ],
   "source": [
    "print(getattr(my,'id'))"
   ]
  },
  {
   "cell_type": "code",
   "execution_count": 34,
   "metadata": {},
   "outputs": [
    {
     "name": "stdout",
     "output_type": "stream",
     "text": [
      "True\n"
     ]
    }
   ],
   "source": [
    "print(hasattr(my,'name'))"
   ]
  },
  {
   "cell_type": "code",
   "execution_count": 35,
   "metadata": {},
   "outputs": [
    {
     "name": "stdout",
     "output_type": "stream",
     "text": [
      "True\n"
     ]
    }
   ],
   "source": [
    "print(hasattr(my,'branch'))"
   ]
  },
  {
   "cell_type": "code",
   "execution_count": 36,
   "metadata": {},
   "outputs": [
    {
     "name": "stdout",
     "output_type": "stream",
     "text": [
      "False\n"
     ]
    }
   ],
   "source": [
    "print(hasattr(my,'id'))"
   ]
  },
  {
   "cell_type": "code",
   "execution_count": null,
   "metadata": {},
   "outputs": [],
   "source": []
  }
 ],
 "metadata": {
  "kernelspec": {
   "display_name": "Python 3",
   "language": "python",
   "name": "python3"
  },
  "language_info": {
   "codemirror_mode": {
    "name": "ipython",
    "version": 3
   },
   "file_extension": ".py",
   "mimetype": "text/x-python",
   "name": "python",
   "nbconvert_exporter": "python",
   "pygments_lexer": "ipython3",
   "version": "3.7.3"
  }
 },
 "nbformat": 4,
 "nbformat_minor": 2
}
