{
 "cells": [
  {
   "cell_type": "markdown",
   "metadata": {},
   "source": [
    "# python object class"
   ]
  },
  {
   "cell_type": "code",
   "execution_count": 2,
   "metadata": {},
   "outputs": [],
   "source": [
    "#class creation\n",
    "class student:\n",
    "    id = 540\n",
    "    name = \"archana\"\n",
    "    def display(self):\n",
    "        print(self.id,self.name)"
   ]
  },
  {
   "cell_type": "code",
   "execution_count": 3,
   "metadata": {},
   "outputs": [
    {
     "name": "stdout",
     "output_type": "stream",
     "text": [
      "540 archana\n"
     ]
    }
   ],
   "source": [
    "#object\n",
    "class student:\n",
    "    id = 540\n",
    "    name = \"archana\"\n",
    "    def display(self):\n",
    "        print(self.id,self.name)\n",
    "std = student() #obj is to access the class atribtes and allctng mem to the cla\n",
    "std.display()"
   ]
  },
  {
   "cell_type": "code",
   "execution_count": 4,
   "metadata": {},
   "outputs": [
    {
     "name": "stdout",
     "output_type": "stream",
     "text": [
      "ID:540\n",
      "Name:archana\n"
     ]
    }
   ],
   "source": [
    "#object\n",
    "class student:\n",
    "    id = 540\n",
    "    name = \"archana\"\n",
    "    def display(self):\n",
    "        print(\"ID:%d\\nName:%s\"%(self.id,self.name))\n",
    "std = student() #obj is to access the class atribtes and allctng mem to the cla\n",
    "std.display()"
   ]
  },
  {
   "cell_type": "markdown",
   "metadata": {},
   "source": [
    "# python constructor"
   ]
  },
  {
   "cell_type": "code",
   "execution_count": 9,
   "metadata": {},
   "outputs": [
    {
     "name": "stdout",
     "output_type": "stream",
     "text": [
      "python avinash\n",
      "webD avinash\n"
     ]
    }
   ],
   "source": [
    "class apssdc:\n",
    "    def __init__(self,stream,coord): #init acts like constructor\n",
    "        self.stream = stream\n",
    "        self.coord = coord\n",
    "    def show(self):\n",
    "        print(self.stream,self.coord)\n",
    "ap = apssdc('python','avinash')\n",
    "ap1 = apssdc('webD','avinash')\n",
    "ap.show()\n",
    "ap1.show()"
   ]
  },
  {
   "cell_type": "code",
   "execution_count": 10,
   "metadata": {},
   "outputs": [
    {
     "name": "stdout",
     "output_type": "stream",
     "text": [
      "python \n",
      "avinash\n",
      "python  avinash\n",
      "python  avinash\n"
     ]
    }
   ],
   "source": [
    "branch = input()\n",
    "co = input()\n",
    "class apssdc:\n",
    "    def __init__(self,stream,coord):\n",
    "        self.stream = stream\n",
    "        self.coord = coord\n",
    "    def show(self):\n",
    "        print(self.stream,self.coord)\n",
    "ap = apssdc(branch,co)\n",
    "#ap1 = apssdc(branch,co)\n",
    "ap.show()\n",
    "ap1.show()"
   ]
  },
  {
   "cell_type": "code",
   "execution_count": 12,
   "metadata": {},
   "outputs": [
    {
     "name": "stdout",
     "output_type": "stream",
     "text": [
      "objects count is 4\n"
     ]
    }
   ],
   "source": [
    "#objects counr\n",
    "class obj:\n",
    "    count = 0\n",
    "    def __init__(self):\n",
    "        obj.count = obj.count+1\n",
    "o = obj()\n",
    "o1 = obj()\n",
    "o2 = obj()\n",
    "o3 = obj()\n",
    "print(\"objects count is\",obj.count)\n",
    "        "
   ]
  },
  {
   "cell_type": "markdown",
   "metadata": {},
   "source": [
    "1. parameterized constructor\n",
    "2. non parameterized constructor"
   ]
  },
  {
   "cell_type": "code",
   "execution_count": 16,
   "metadata": {},
   "outputs": [
    {
     "name": "stdout",
     "output_type": "stream",
     "text": [
      "id:540\n",
      "Name:Archana\n"
     ]
    }
   ],
   "source": [
    "# parameterized constructor\n",
    "class Student:\n",
    "    def __init__(self,name,id):\n",
    "        self.name = name\n",
    "        self.id = id\n",
    "    def values(self):\n",
    "        print(\"id:%d\\nName:%s\"%(self.id,self.name))\n",
    "std = Student('Archana',540)\n",
    "std.values()"
   ]
  },
  {
   "cell_type": "code",
   "execution_count": 23,
   "metadata": {},
   "outputs": [
    {
     "name": "stdout",
     "output_type": "stream",
     "text": [
      "non parameterized\n",
      "num:540\n",
      "Name:árchana\n"
     ]
    }
   ],
   "source": [
    "# parameterized constructor\n",
    "class Student:\n",
    "    def __init__(self):\n",
    "        print(\"non parameterized\")\n",
    "    def values(self,num,name):\n",
    "        print(\"num:%d\\nName:%s\"%(name,num))\n",
    "std = Student()\n",
    "std.values('árchana',540)"
   ]
  },
  {
   "cell_type": "code",
   "execution_count": 25,
   "metadata": {},
   "outputs": [
    {
     "name": "stdout",
     "output_type": "stream",
     "text": [
      "Archana 540\n"
     ]
    }
   ],
   "source": [
    "#default constructorresult\n",
    "class Student:\n",
    "    id = 540\n",
    "    name = 'Archana'\n",
    "    def result(self):\n",
    "        print(self.name,self.id)\n",
    "st1 = Student()\n",
    "st1.result()"
   ]
  },
  {
   "cell_type": "code",
   "execution_count": 26,
   "metadata": {},
   "outputs": [
    {
     "name": "stdout",
     "output_type": "stream",
     "text": [
      "The second contructor\n"
     ]
    }
   ],
   "source": [
    "class Student:  \n",
    "    def __init__(self):  \n",
    "        print(\"The First Constructor\")  \n",
    "    def __init__(self):  \n",
    "        print(\"The second contructor\")  \n",
    "\n",
    "        \n",
    "st = Student()  "
   ]
  },
  {
   "cell_type": "markdown",
   "metadata": {},
   "source": [
    "# built in class functions\n",
    "1\tgetattr(obj,name,default)\tIt is used to access the attribute of the object.\n",
    "2\tsetattr(obj, name,value)\tIt is used to set a particular value to the specific attribute of an object.\n",
    "3\tdelattr(obj, name)\tIt is used to delete a specific attribute.\n",
    "4\thasattr(obj, name)\tIt returns true if the object contains some specific attribute."
   ]
  },
  {
   "cell_type": "code",
   "execution_count": 28,
   "metadata": {},
   "outputs": [
    {
     "name": "stdout",
     "output_type": "stream",
     "text": [
      "Archana\n"
     ]
    }
   ],
   "source": [
    "class MyDetails:\n",
    "    def __init__(self,name,branch,id):\n",
    "        self.name = name\n",
    "        self.branch = branch\n",
    "        self.id = id\n",
    "my = MyDetails('Archana','CSE',540)\n",
    "print(getattr(my,'name'))"
   ]
  },
  {
   "cell_type": "code",
   "execution_count": 29,
   "metadata": {},
   "outputs": [
    {
     "name": "stdout",
     "output_type": "stream",
     "text": [
      "None\n"
     ]
    }
   ],
   "source": [
    "print(setattr(my,'name','anu'))"
   ]
  },
  {
   "cell_type": "code",
   "execution_count": 30,
   "metadata": {},
   "outputs": [
    {
     "name": "stdout",
     "output_type": "stream",
     "text": [
      "anu\n"
     ]
    }
   ],
   "source": [
    "print(getattr(my,'name'))"
   ]
  },
  {
   "cell_type": "code",
   "execution_count": 31,
   "metadata": {},
   "outputs": [
    {
     "name": "stdout",
     "output_type": "stream",
     "text": [
      "540\n"
     ]
    }
   ],
   "source": [
    "print(getattr(my,'id'))"
   ]
  },
  {
   "cell_type": "code",
   "execution_count": 32,
   "metadata": {},
   "outputs": [
    {
     "name": "stdout",
     "output_type": "stream",
     "text": [
      "None\n"
     ]
    }
   ],
   "source": [
    "print(delattr(my,'id'))"
   ]
  },
  {
   "cell_type": "code",
   "execution_count": 33,
   "metadata": {},
   "outputs": [
    {
     "ename": "AttributeError",
     "evalue": "'MyDetails' object has no attribute 'id'",
     "output_type": "error",
     "traceback": [
      "\u001b[1;31m---------------------------------------------------------------------------\u001b[0m",
      "\u001b[1;31mAttributeError\u001b[0m                            Traceback (most recent call last)",
      "\u001b[1;32m<ipython-input-33-c1a5f307ec0b>\u001b[0m in \u001b[0;36m<module>\u001b[1;34m\u001b[0m\n\u001b[1;32m----> 1\u001b[1;33m \u001b[0mprint\u001b[0m\u001b[1;33m(\u001b[0m\u001b[0mgetattr\u001b[0m\u001b[1;33m(\u001b[0m\u001b[0mmy\u001b[0m\u001b[1;33m,\u001b[0m\u001b[1;34m'id'\u001b[0m\u001b[1;33m)\u001b[0m\u001b[1;33m)\u001b[0m\u001b[1;33m\u001b[0m\u001b[1;33m\u001b[0m\u001b[0m\n\u001b[0m",
      "\u001b[1;31mAttributeError\u001b[0m: 'MyDetails' object has no attribute 'id'"
     ]
    }
   ],
   "source": [
    "print(getattr(my,'id'))"
   ]
  },
  {
   "cell_type": "code",
   "execution_count": 34,
   "metadata": {},
   "outputs": [
    {
     "name": "stdout",
     "output_type": "stream",
     "text": [
      "True\n"
     ]
    }
   ],
   "source": [
    "print(hasattr(my,'name'))"
   ]
  },
  {
   "cell_type": "code",
   "execution_count": 35,
   "metadata": {},
   "outputs": [
    {
     "name": "stdout",
     "output_type": "stream",
     "text": [
      "True\n"
     ]
    }
   ],
   "source": [
    "print(hasattr(my,'branch'))"
   ]
  },
  {
   "cell_type": "code",
   "execution_count": 36,
   "metadata": {},
   "outputs": [
    {
     "name": "stdout",
     "output_type": "stream",
     "text": [
      "False\n"
     ]
    }
   ],
   "source": [
    "print(hasattr(my,'id'))"
   ]
  },
  {
   "cell_type": "markdown",
   "metadata": {},
   "source": [
    "## python inheritance\n",
    "* it plays major role in oops\n",
    "* child class will access the properties of parent class\n",
    "* data will inherit from parent to child\n",
    "* new class is called as child/derived cls\n",
    "\n",
    "## types of inheritance\n",
    "1. single inheritance\n",
    "2. multi_level inheritance\n",
    "3. multiple inheritance"
   ]
  },
  {
   "cell_type": "code",
   "execution_count": 5,
   "metadata": {},
   "outputs": [
    {
     "name": "stdout",
     "output_type": "stream",
     "text": [
      "am from class2\n"
     ]
    }
   ],
   "source": [
    "class Class1:\n",
    "    a,b = 10,20\n",
    "    def dis1():\n",
    "        print(\"am from class1\")\n",
    "\n",
    "class Class2(Class1):\n",
    "    c,d = 30,40\n",
    "    def dis():\n",
    "        print(\"am from class2\")\n",
    "    \n",
    "c = Class2\n",
    "c.dis()"
   ]
  },
  {
   "cell_type": "code",
   "execution_count": 6,
   "metadata": {},
   "outputs": [
    {
     "data": {
      "text/plain": [
       "10"
      ]
     },
     "execution_count": 6,
     "metadata": {},
     "output_type": "execute_result"
    }
   ],
   "source": [
    "c.a"
   ]
  },
  {
   "cell_type": "code",
   "execution_count": 7,
   "metadata": {},
   "outputs": [
    {
     "data": {
      "text/plain": [
       "40"
      ]
     },
     "execution_count": 7,
     "metadata": {},
     "output_type": "execute_result"
    }
   ],
   "source": [
    "c.d"
   ]
  },
  {
   "cell_type": "code",
   "execution_count": 9,
   "metadata": {},
   "outputs": [
    {
     "name": "stdout",
     "output_type": "stream",
     "text": [
      "am from class1\n"
     ]
    }
   ],
   "source": [
    "c.dis1()"
   ]
  },
  {
   "cell_type": "code",
   "execution_count": 19,
   "metadata": {},
   "outputs": [
    {
     "name": "stdout",
     "output_type": "stream",
     "text": [
      "cA\n",
      "cB\n",
      "cC 100000000000000000000\n"
     ]
    },
    {
     "data": {
      "text/plain": [
       "20"
      ]
     },
     "execution_count": 19,
     "metadata": {},
     "output_type": "execute_result"
    }
   ],
   "source": [
    "# multi level\n",
    "class A:\n",
    "    def show():\n",
    "        print(\"cA\")\n",
    "class B(A):\n",
    "    def dis():\n",
    "        print(\"cB\")\n",
    "class C(B):\n",
    "    a,b = 20,45\n",
    "    def dis1(a,b):\n",
    "        print(\"cC\",a**b)\n",
    "\n",
    "obj = C\n",
    "obj.show()\n",
    "obj.dis()\n",
    "obj.dis1(10,20)\n",
    "obj.a"
   ]
  },
  {
   "cell_type": "code",
   "execution_count": 28,
   "metadata": {},
   "outputs": [],
   "source": [
    "#multi multiple\n",
    "class Math:\n",
    "    def add(a,b):\n",
    "        return a+b\n",
    "class Math1:\n",
    "    def sub(a,b):\n",
    "        return abs(a-b)\n",
    "class math2:\n",
    "    def mul(a,b):\n",
    "        return a*b\n",
    "class math3(Math,Math1,math2):\n",
    "    def power(a,b):\n",
    "        return a**b\n",
    "\n",
    "m = math3"
   ]
  },
  {
   "cell_type": "code",
   "execution_count": 22,
   "metadata": {},
   "outputs": [
    {
     "data": {
      "text/plain": [
       "30"
      ]
     },
     "execution_count": 22,
     "metadata": {},
     "output_type": "execute_result"
    }
   ],
   "source": [
    "m.add(10,20)"
   ]
  },
  {
   "cell_type": "code",
   "execution_count": 23,
   "metadata": {},
   "outputs": [
    {
     "data": {
      "text/plain": [
       "125"
      ]
     },
     "execution_count": 23,
     "metadata": {},
     "output_type": "execute_result"
    }
   ],
   "source": [
    "m.power(5,3)"
   ]
  },
  {
   "cell_type": "code",
   "execution_count": 24,
   "metadata": {},
   "outputs": [],
   "source": [
    "m1 = math2"
   ]
  },
  {
   "cell_type": "code",
   "execution_count": 27,
   "metadata": {
    "collapsed": true
   },
   "outputs": [
    {
     "ename": "AttributeError",
     "evalue": "type object 'math2' has no attribute 'sub'",
     "output_type": "error",
     "traceback": [
      "\u001b[1;31m---------------------------------------------------------------------------\u001b[0m",
      "\u001b[1;31mAttributeError\u001b[0m                            Traceback (most recent call last)",
      "\u001b[1;32m<ipython-input-27-f7a602601133>\u001b[0m in \u001b[0;36m<module>\u001b[1;34m\u001b[0m\n\u001b[1;32m----> 1\u001b[1;33m \u001b[0mm1\u001b[0m\u001b[1;33m.\u001b[0m\u001b[0msub\u001b[0m\u001b[1;33m(\u001b[0m\u001b[1;36m3\u001b[0m\u001b[1;33m,\u001b[0m\u001b[1;36m4\u001b[0m\u001b[1;33m)\u001b[0m\u001b[1;33m\u001b[0m\u001b[1;33m\u001b[0m\u001b[0m\n\u001b[0m",
      "\u001b[1;31mAttributeError\u001b[0m: type object 'math2' has no attribute 'sub'"
     ]
    }
   ],
   "source": [
    "m1.sub(3,4)"
   ]
  },
  {
   "cell_type": "code",
   "execution_count": null,
   "metadata": {},
   "outputs": [],
   "source": []
  }
 ],
 "metadata": {
  "kernelspec": {
   "display_name": "Python 3",
   "language": "python",
   "name": "python3"
  },
  "language_info": {
   "codemirror_mode": {
    "name": "ipython",
    "version": 3
   },
   "file_extension": ".py",
   "mimetype": "text/x-python",
   "name": "python",
   "nbconvert_exporter": "python",
   "pygments_lexer": "ipython3",
   "version": "3.7.3"
  }
 },
 "nbformat": 4,
 "nbformat_minor": 2
}
