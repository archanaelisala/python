{
 "cells": [
  {
   "cell_type": "code",
   "execution_count": 2,
   "metadata": {},
   "outputs": [
    {
     "name": "stdout",
     "output_type": "stream",
     "text": [
      "40\n",
      "archana\n"
     ]
    }
   ],
   "source": [
    "class employeee:\n",
    "    n = int(input())\n",
    "    name = input()\n",
    "    def display(self):\n",
    "        print(self.n)\n",
    "        print(self.name)"
   ]
  },
  {
   "cell_type": "code",
   "execution_count": 7,
   "metadata": {},
   "outputs": [
    {
     "name": "stdout",
     "output_type": "stream",
     "text": [
      "40\n",
      "anu\n",
      "Id is 40\n",
      "name is anu\n"
     ]
    }
   ],
   "source": [
    "class employeee:\n",
    "    n = int(input())\n",
    "    name = input()\n",
    "    def display(self):\n",
    "        #print(self.n)\n",
    "        #print(self.name)\n",
    "        print(\"Id is %d\\nname is %s\"%(self.n,self.name))\n",
    "emp = employeee()\n",
    "emp.display()"
   ]
  },
  {
   "cell_type": "markdown",
   "metadata": {},
   "source": [
    "### python constructor\n",
    "1. python constructor is a method(function) to initialise instance members of the class\n",
    "2. every class should have a constructor\n",
    "3. in python '__init__' method creates constructors to the class\n",
    "    * parameterised constructor\n",
    "    * non parameterised constructor\n",
    "    "
   ]
  },
  {
   "cell_type": "code",
   "execution_count": 12,
   "metadata": {},
   "outputs": [
    {
     "name": "stdout",
     "output_type": "stream",
     "text": [
      "id is 40\n",
      "name is anu\n",
      "id is 41\n",
      "name is chinnu\n",
      "id is 42\n",
      "name is anuchinnu\n"
     ]
    }
   ],
   "source": [
    "class employee:\n",
    "    def __init__(self,n,name):\n",
    "        self.n = n\n",
    "        self.name = name\n",
    "    def display(self):\n",
    "        print(\"id is %d\\nname is %s\"%(self.n,self.name))\n",
    "e1 = employee(40,'anu')\n",
    "e2 = employee(41,'chinnu')\n",
    "e3 = employee(42,'anuchinnu')\n",
    "\n",
    "e1.display()\n",
    "e2.display()\n",
    "e3.display()"
   ]
  },
  {
   "cell_type": "code",
   "execution_count": null,
   "metadata": {},
   "outputs": [],
   "source": [
    "# parameterised constructor\n"
   ]
  },
  {
   "cell_type": "code",
   "execution_count": null,
   "metadata": {},
   "outputs": [],
   "source": [
    "# non parameterised constructor\n"
   ]
  },
  {
   "cell_type": "markdown",
   "metadata": {},
   "source": [
    "### in_built class functions\n",
    "1. getattr()\n",
    "2. setattr()\n",
    "3. delattr()\n",
    "4. hasattr()"
   ]
  },
  {
   "cell_type": "code",
   "execution_count": 27,
   "metadata": {},
   "outputs": [
    {
     "name": "stdout",
     "output_type": "stream",
     "text": [
      "anu\n",
      "None\n",
      "anuchinnu\n",
      "True\n",
      "25\n",
      "None\n",
      "540\n"
     ]
    }
   ],
   "source": [
    "class Student:\n",
    "    def __init__(self,name,Id,age):\n",
    "        self.name = name\n",
    "        self.Id = Id\n",
    "        self.age = age\n",
    "s = Student('anu',540,25)\n",
    "print(getattr(s,'name'))\n",
    "\n",
    "print(setattr(s,'name','anuchinnu'))\n",
    "\n",
    "print(getattr(s,'name'))\n",
    "\n",
    "print(hasattr(s,'age'))\n",
    "\n",
    "print(getattr(s,'age'))\n",
    "\n",
    "print(delattr(s,'age'))\n",
    "\n",
    "print(getattr(s,'Id'))\n",
    "        "
   ]
  },
  {
   "cell_type": "markdown",
   "metadata": {},
   "source": [
    "### class attributes\n",
    "1. __doc__  --> contains the string which has the documentation\n",
    "2. __dict__ --> generates the dictionary for the information about the class namespaces\n",
    "3. __name__ --> used to access the class name\n",
    "4. __module__  --> used to access the module in which, this class is defined\n",
    "5. __bases__   --> contains tuple for all base classes"
   ]
  },
  {
   "cell_type": "code",
   "execution_count": 39,
   "metadata": {},
   "outputs": [
    {
     "name": "stdout",
     "output_type": "stream",
     "text": [
      "name is anu\n",
      "Id is 540\n",
      "age is 25\n",
      "{'name': 'anu', 'Id': 540, 'age': 25}\n",
      "None\n"
     ]
    }
   ],
   "source": [
    "class Student:\n",
    "    def __init__(self,name,Id,age):\n",
    "        self.name = name\n",
    "        self.Id = Id\n",
    "        self.age = age\n",
    "    def show(self):\n",
    "        print(\"name is %s\\nId is %d\\nage is %d\"%(self.name,self.Id,self.age))\n",
    "s = Student('anu',540,25)\n",
    "s.show()\n",
    "\n",
    "print(s.__dict__)\n",
    "print(s.__doc__)\n"
   ]
  },
  {
   "cell_type": "markdown",
   "metadata": {},
   "source": [
    "### python inheritence\n",
    "* class inside class is nothing but inheritence"
   ]
  },
  {
   "cell_type": "code",
   "execution_count": 44,
   "metadata": {},
   "outputs": [
    {
     "name": "stdout",
     "output_type": "stream",
     "text": [
      "hello Archana\n",
      "hi chinnu how are u???\n"
     ]
    }
   ],
   "source": [
    "class Student:\n",
    "    def show(self):\n",
    "        return \"hello Archana\"\n",
    "class Student_frnd(Student):\n",
    "    def show1(self):\n",
    "        return \"hi chinnu how are u???\"\n",
    "s = Student_frnd()\n",
    "print(s.show())\n",
    "print(s.show1())\n"
   ]
  },
  {
   "cell_type": "markdown",
   "metadata": {},
   "source": [
    "### multiple inheritence"
   ]
  },
  {
   "cell_type": "code",
   "execution_count": 51,
   "metadata": {},
   "outputs": [
    {
     "name": "stdout",
     "output_type": "stream",
     "text": [
      "30\n",
      "20\n",
      "anuchinnu\n",
      "Done\n"
     ]
    }
   ],
   "source": [
    "class claculator:\n",
    "    def add(self,a,b):\n",
    "        return a+b\n",
    "class claculator1:\n",
    "    def mul(self,a,b):\n",
    "        return a*b\n",
    "class Student_name:\n",
    "    def names(self,name1,name2):\n",
    "        return name1+name2\n",
    "class derived(claculator,Student_name,claculator1):\n",
    "    def show(self):\n",
    "        return \"Done\"\n",
    "\n",
    "r = derived()\n",
    "print(r.add(10,20))\n",
    "\n",
    "print(r.mul(10,2))\n",
    "\n",
    "print(r.names('anu','chinnu'))\n",
    "\n",
    "print(r.show())"
   ]
  },
  {
   "cell_type": "code",
   "execution_count": 58,
   "metadata": {},
   "outputs": [
    {
     "name": "stdout",
     "output_type": "stream",
     "text": [
      "True\n",
      "True\n",
      "True\n",
      "False\n"
     ]
    }
   ],
   "source": [
    "print(isinstance(r,derived))\n",
    "\n",
    "\n",
    "print(isinstance(r,Student_name))\n",
    "\n",
    "#print(isinstance(r,names))\n",
    "\n",
    "\n",
    "print(issubclass(derived,claculator1))\n",
    "\n",
    "print(issubclass(claculator,claculator1))"
   ]
  },
  {
   "cell_type": "code",
   "execution_count": null,
   "metadata": {},
   "outputs": [],
   "source": []
  }
 ],
 "metadata": {
  "kernelspec": {
   "display_name": "Python 3",
   "language": "python",
   "name": "python3"
  },
  "language_info": {
   "codemirror_mode": {
    "name": "ipython",
    "version": 3
   },
   "file_extension": ".py",
   "mimetype": "text/x-python",
   "name": "python",
   "nbconvert_exporter": "python",
   "pygments_lexer": "ipython3",
   "version": "3.7.3"
  }
 },
 "nbformat": 4,
 "nbformat_minor": 2
}
