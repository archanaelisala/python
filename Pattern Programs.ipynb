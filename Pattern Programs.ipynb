{
 "cells": [
  {
   "cell_type": "code",
   "execution_count": 3,
   "metadata": {},
   "outputs": [
    {
     "name": "stdout",
     "output_type": "stream",
     "text": [
      "3\n",
      "*\n",
      "**\n",
      "***\n"
     ]
    }
   ],
   "source": [
    "n = int(input())\n",
    "for i in range(0,n):\n",
    "    for j in range(0,i+1):\n",
    "        print(\"*\",end=\"\")\n",
    "    print('\\r')"
   ]
  },
  {
   "cell_type": "code",
   "execution_count": 12,
   "metadata": {},
   "outputs": [
    {
     "name": "stdout",
     "output_type": "stream",
     "text": [
      "3\n",
      "*\n",
      "**\n",
      "***\n"
     ]
    }
   ],
   "source": [
    "n = int(input())\n",
    "m =[]\n",
    "for i in range(1,n+1):\n",
    "    m.append('*'*i)\n",
    "print(\"\\n\".join(m))"
   ]
  },
  {
   "cell_type": "code",
   "execution_count": 23,
   "metadata": {},
   "outputs": [
    {
     "name": "stdout",
     "output_type": "stream",
     "text": [
      "3\n",
      "\n",
      "    *\n",
      "  **\n",
      "***"
     ]
    }
   ],
   "source": [
    "n = int(input())\n",
    "k = 2*n-2\n",
    "for i in range(0,n):\n",
    "    for j in range(0,k):\n",
    "        print(end=\" \")\n",
    "    k = k-2\n",
    "    for j in range(0,i+1):\n",
    "        print(\"*\",end=\"\")\n",
    "    print(\"\\r\")"
   ]
  },
  {
   "cell_type": "code",
   "execution_count": 18,
   "metadata": {},
   "outputs": [
    {
     "name": "stdout",
     "output_type": "stream",
     "text": [
      "        * \r\n",
      "      * * \r\n",
      "    * * * \r\n",
      "  * * * * \r\n",
      "* * * * * \r\n"
     ]
    }
   ],
   "source": [
    "def pypart2(n): \n",
    "      \n",
    "    # number of spaces \n",
    "    k = 2*n - 2\n",
    "  \n",
    "    # outer loop to handle number of rows \n",
    "    for i in range(0, n): \n",
    "      \n",
    "        # inner loop to handle number spaces \n",
    "        # values changing acc. to requirement \n",
    "        for j in range(0, k): \n",
    "            print(end=\" \") \n",
    "      \n",
    "        # decrementing k after each loop \n",
    "        k = k - 2\n",
    "      \n",
    "        # inner loop to handle number of columns \n",
    "        # values changing acc. to outer loop \n",
    "        for j in range(0, i+1): \n",
    "          \n",
    "            # printing stars \n",
    "            print(\"* \", end=\"\") \n",
    "      \n",
    "        # ending line after each row \n",
    "        print(\"\\r\") "
   ]
  },
  {
   "cell_type": "code",
   "execution_count": 2,
   "metadata": {},
   "outputs": [],
   "source": [
    "def triangle(n): \n",
    "    k = 2*n - 2\n",
    "    # outer loop to handle number of rows \n",
    "    for i in range(0, n): \n",
    "      \n",
    "        # inner loop to handle number spaces \n",
    "        # values changing acc. to requirement \n",
    "        for j in range(0, k): \n",
    "            print(end=\" \") \n",
    "      \n",
    "        # decrementing k after each loop \n",
    "        k = k - 1\n",
    "      \n",
    "        # inner loop to handle number of columns \n",
    "        # values changing acc. to outer loop \n",
    "        for j in range(0, i+1): \n",
    "          \n",
    "            # printing stars \n",
    "            print(\"* \", end=\"\") \n",
    "      \n",
    "        # ending line after each row \n",
    "        print(\"\\r\") \n",
    "  \n",
    "# Driver Code \n",
    "n = 5\n",
    "triangle(n) "
   ]
  },
  {
   "cell_type": "code",
   "execution_count": 2,
   "metadata": {},
   "outputs": [
    {
     "name": "stdout",
     "output_type": "stream",
     "text": [
      "1 \r\n",
      "1 2 \r\n",
      "1 2 3 \r\n",
      "1 2 3 4 \r\n",
      "1 2 3 4 5 \r\n"
     ]
    }
   ],
   "source": [
    "def numpat(n): \n",
    "      \n",
    "    # initialising starting number  \n",
    "    num = 1\n",
    "  \n",
    "    # outer loop to handle number of rows \n",
    "    for i in range(0, n): \n",
    "      \n",
    "        # re assigning num \n",
    "        num = 1\n",
    "      \n",
    "        # inner loop to handle number of columns \n",
    "            # values changing acc. to outer loop \n",
    "        for j in range(0, i+1): \n",
    "          \n",
    "                # printing number \n",
    "            print(num, end=\" \") \n",
    "          \n",
    "            # incrementing number at each column \n",
    "            num = num + 1\n",
    "      \n",
    "        # ending line after each row \n",
    "        print(\"\\r\") \n",
    "  \n",
    "# Driver code \n",
    "n = 5\n",
    "numpat(n) "
   ]
  },
  {
   "cell_type": "code",
   "execution_count": 26,
   "metadata": {},
   "outputs": [
    {
     "name": "stdout",
     "output_type": "stream",
     "text": [
      "1 \r\n",
      "2 3 \r\n",
      "4 5 6 \r\n",
      "7 8 9 10 \r\n",
      "11 12 13 14 15 \r\n"
     ]
    }
   ],
   "source": [
    "#Numbers without re assigning\n",
    "# Function to demonstrate printing pattern of numbers \n",
    "def contnum(n): \n",
    "      \n",
    "    # initializing starting number  \n",
    "    num = 1\n",
    "  \n",
    "    # outer loop to handle number of rows \n",
    "    for i in range(0, n): \n",
    "      \n",
    "        # not re assigning num \n",
    "        # num = 1 \n",
    "      \n",
    "        # inner loop to handle number of columns \n",
    "        # values changing acc. to outer loop \n",
    "        for j in range(0, i+1): \n",
    "          \n",
    "            # printing number \n",
    "            print(num, end=\" \") \n",
    "          \n",
    "            # incrementing number at each column \n",
    "            num = num + 1\n",
    "      \n",
    "        # ending line after each row \n",
    "        print(\"\\r\") \n",
    "  \n",
    "n = 5\n",
    "  \n",
    "# sending 5 as argument \n",
    "# calling Function \n",
    "contnum(n) "
   ]
  },
  {
   "cell_type": "code",
   "execution_count": 27,
   "metadata": {},
   "outputs": [
    {
     "name": "stdout",
     "output_type": "stream",
     "text": [
      "A \r\n",
      "B B \r\n",
      "C C C \r\n",
      "D D D D \r\n",
      "E E E E E \r\n"
     ]
    }
   ],
   "source": [
    "# Character pattern\n",
    "def alphapat(n): \n",
    "      \n",
    "    # initializing value corresponding to 'A'  \n",
    "    # ASCII value \n",
    "    num = 65\n",
    "  \n",
    "    # outer loop to handle number of rows \n",
    "    # 5 in this case \n",
    "    for i in range(0, n): \n",
    "      \n",
    "        # inner loop to handle number of columns \n",
    "        # values changing acc. to outer loop \n",
    "        for j in range(0, i+1): \n",
    "          \n",
    "            # explicitely converting to char \n",
    "            ch = chr(num) \n",
    "          \n",
    "            # printing char value  \n",
    "            print(ch, end=\" \") \n",
    "      \n",
    "        # incrementing number \n",
    "        num = num + 1\n",
    "      \n",
    "        # ending line after each row \n",
    "        print(\"\\r\") \n",
    "  \n",
    "# Driver Code \n",
    "n = 5\n",
    "alphapat(n)"
   ]
  },
  {
   "cell_type": "code",
   "execution_count": 29,
   "metadata": {},
   "outputs": [
    {
     "name": "stdout",
     "output_type": "stream",
     "text": [
      "A \r\n",
      "B C \r\n",
      "D E F \r\n",
      "G H I J \r\n",
      "K L M N O \r\n"
     ]
    }
   ],
   "source": [
    "#Continuous Character pattern\n",
    "\n",
    "  \n",
    "# Function to demonstrate printing pattern of alphabets \n",
    "def  contalpha(n): \n",
    "      \n",
    "    # initializing value corresponding to 'A'  \n",
    "    # ASCII value \n",
    "    num = 65\n",
    "  \n",
    "    # outer loop to handle number of rows \n",
    "    for i in range(0, n): \n",
    "      \n",
    "        # inner loop to handle number of columns \n",
    "        # values changing acc. to outer loop \n",
    "        for j in range(0, i+1): \n",
    "          \n",
    "            # explicitely converting to char \n",
    "            ch = chr(num) \n",
    "          \n",
    "            # printing char value  \n",
    "            print(ch, end=\" \") \n",
    "          \n",
    "            # incrementing at each column \n",
    "            num = num +1\n",
    "      \n",
    "      \n",
    "        # ending line after each row \n",
    "        print(\"\\r\") \n",
    "  \n",
    "# Driver code \n",
    "n = 5\n",
    "contalpha(n) "
   ]
  },
  {
   "cell_type": "code",
   "execution_count": null,
   "metadata": {},
   "outputs": [],
   "source": []
  }
 ],
 "metadata": {
  "kernelspec": {
   "display_name": "Python 3",
   "language": "python",
   "name": "python3"
  },
  "language_info": {
   "codemirror_mode": {
    "name": "ipython",
    "version": 3
   },
   "file_extension": ".py",
   "mimetype": "text/x-python",
   "name": "python",
   "nbconvert_exporter": "python",
   "pygments_lexer": "ipython3",
   "version": "3.7.3"
  }
 },
 "nbformat": 4,
 "nbformat_minor": 2
}
