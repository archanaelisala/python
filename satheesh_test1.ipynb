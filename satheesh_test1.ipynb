{
 "cells": [
  {
   "cell_type": "markdown",
   "metadata": {},
   "source": [
    "# 1)program to changing order of index of given series"
   ]
  },
  {
   "cell_type": "code",
   "execution_count": 4,
   "metadata": {},
   "outputs": [
    {
     "data": {
      "text/plain": [
       "4     Avinash\n",
       "5     Archana\n",
       "3        ravi\n",
       "2    prasanna\n",
       "1    satheesh\n",
       "dtype: object"
      ]
     },
     "execution_count": 4,
     "metadata": {},
     "output_type": "execute_result"
    }
   ],
   "source": [
    "import pandas as pd\n",
    "names=[\"satheesh\",\"prasanna\",\"ravi\",\"Avinash\",\"Archana\"]\n",
    "index=[1,2,3,4,5]\n",
    "a=pd.Series(names,index)\n",
    "a=a.reindex(index=[4,5,3,2,1])# order of index changing\n",
    "a"
   ]
  },
  {
   "cell_type": "markdown",
   "metadata": {},
   "source": [
    "# 2)program to add substract,divide of two pandas series"
   ]
  },
  {
   "cell_type": "code",
   "execution_count": 5,
   "metadata": {},
   "outputs": [
    {
     "name": "stdout",
     "output_type": "stream",
     "text": [
      "sum is 0     3\n",
      "1     7\n",
      "2    11\n",
      "3    15\n",
      "4    19\n",
      "dtype: int64\n",
      "substration is 0    1\n",
      "1    1\n",
      "2    1\n",
      "3    1\n",
      "4    1\n",
      "dtype: int64\n",
      "division is 0    2.000000\n",
      "1    1.333333\n",
      "2    1.200000\n",
      "3    1.142857\n",
      "4    1.111111\n",
      "dtype: float64\n"
     ]
    }
   ],
   "source": [
    "import pandas as pd\n",
    "a=[2,4,6,8,10]\n",
    "b=[1,3,5,7,9]\n",
    "# addition\n",
    "data=pd.Series(a)\n",
    "data2=pd.Series(b)\n",
    "sum1=data+data2\n",
    "sub=data-data2\n",
    "divide=data/data2\n",
    "print(\"sum is\",sum1)\n",
    "print(\"substration is\",sub)\n",
    "print(\"division is\",divide)\n"
   ]
  },
  {
   "cell_type": "markdown",
   "metadata": {},
   "source": [
    "# 3)convert pandas module series into python list"
   ]
  },
  {
   "cell_type": "code",
   "execution_count": 9,
   "metadata": {},
   "outputs": [
    {
     "name": "stdout",
     "output_type": "stream",
     "text": [
      "[1, 2, 3]\n"
     ]
    },
    {
     "data": {
      "text/plain": [
       "list"
      ]
     },
     "execution_count": 9,
     "metadata": {},
     "output_type": "execute_result"
    }
   ],
   "source": [
    "import pandas as pd\n",
    "a=[1,2,3]\n",
    "x=pd.Series(a)\n",
    "x=x.tolist()\n",
    "print(x)\n",
    "type(x)"
   ]
  },
  {
   "cell_type": "markdown",
   "metadata": {},
   "source": [
    "# 4)program to select the rows whare the score is NaN?"
   ]
  },
  {
   "cell_type": "code",
   "execution_count": 38,
   "metadata": {},
   "outputs": [
    {
     "name": "stdout",
     "output_type": "stream",
     "text": [
      "    name  score  attempts qualify\n",
      "d  James    NaN         3      no\n",
      "h  Laura    NaN         1      no\n"
     ]
    }
   ],
   "source": [
    "examdata= {'name': ['Anastasia', 'Dima', 'Katherine', 'James', 'Emily', 'Michael', 'Matthew', 'Laura', 'Kevin', 'Jonas'],\n",
    "       'score': [12.5, 9, 16.5, np.nan, 9, 20, 14.5, np.nan, 8, 19],\n",
    "       'attempts': [1, 3, 2, 3, 2, 3, 1, 1, 2, 1],\n",
    "       'qualify': ['yes', 'no', 'yes', 'no', 'no', 'yes', 'yes', 'no', 'no', 'yes']}\n",
    "labels=['a', 'b', 'c', 'd', 'e', 'f', 'g', 'h', 'i', 'j']\n",
    "\n",
    "data=pd.DataFrame(examdata , index=labels)\n",
    "print(data[data['score'].isnull()])"
   ]
  },
  {
   "cell_type": "markdown",
   "metadata": {},
   "source": [
    "# 5)print today date"
   ]
  },
  {
   "cell_type": "code",
   "execution_count": 15,
   "metadata": {},
   "outputs": [
    {
     "name": "stdout",
     "output_type": "stream",
     "text": [
      "2019-12-07 00:00:00\n"
     ]
    }
   ],
   "source": [
    "import pandas as pd\n",
    "from datetime import date\n",
    "today_date=pd.to_datetime(str(date.today()))\n",
    "print(today_date)"
   ]
  },
  {
   "cell_type": "markdown",
   "metadata": {},
   "source": [
    "# 6) create pivot table by considering titanic"
   ]
  },
  {
   "cell_type": "code",
   "execution_count": 40,
   "metadata": {},
   "outputs": [
    {
     "data": {
      "text/html": [
       "<div>\n",
       "<style scoped>\n",
       "    .dataframe tbody tr th:only-of-type {\n",
       "        vertical-align: middle;\n",
       "    }\n",
       "\n",
       "    .dataframe tbody tr th {\n",
       "        vertical-align: top;\n",
       "    }\n",
       "\n",
       "    .dataframe thead th {\n",
       "        text-align: right;\n",
       "    }\n",
       "</style>\n",
       "<table border=\"1\" class=\"dataframe\">\n",
       "  <thead>\n",
       "    <tr style=\"text-align: right;\">\n",
       "      <th></th>\n",
       "      <th></th>\n",
       "      <th>Fare</th>\n",
       "      <th>Parch</th>\n",
       "      <th>PassengerId</th>\n",
       "      <th>Pclass</th>\n",
       "      <th>SibSp</th>\n",
       "      <th>Survived</th>\n",
       "    </tr>\n",
       "    <tr>\n",
       "      <th>Name</th>\n",
       "      <th>Age</th>\n",
       "      <th></th>\n",
       "      <th></th>\n",
       "      <th></th>\n",
       "      <th></th>\n",
       "      <th></th>\n",
       "      <th></th>\n",
       "    </tr>\n",
       "  </thead>\n",
       "  <tbody>\n",
       "    <tr>\n",
       "      <td>Abbing, Mr. Anthony</td>\n",
       "      <td>42.0</td>\n",
       "      <td>7.5500</td>\n",
       "      <td>0</td>\n",
       "      <td>846</td>\n",
       "      <td>3</td>\n",
       "      <td>0</td>\n",
       "      <td>0</td>\n",
       "    </tr>\n",
       "    <tr>\n",
       "      <td>Abbott, Mr. Rossmore Edward</td>\n",
       "      <td>16.0</td>\n",
       "      <td>20.2500</td>\n",
       "      <td>1</td>\n",
       "      <td>747</td>\n",
       "      <td>3</td>\n",
       "      <td>1</td>\n",
       "      <td>0</td>\n",
       "    </tr>\n",
       "    <tr>\n",
       "      <td>Abbott, Mrs. Stanton (Rosa Hunt)</td>\n",
       "      <td>35.0</td>\n",
       "      <td>20.2500</td>\n",
       "      <td>1</td>\n",
       "      <td>280</td>\n",
       "      <td>3</td>\n",
       "      <td>1</td>\n",
       "      <td>1</td>\n",
       "    </tr>\n",
       "    <tr>\n",
       "      <td>Abelson, Mr. Samuel</td>\n",
       "      <td>30.0</td>\n",
       "      <td>24.0000</td>\n",
       "      <td>0</td>\n",
       "      <td>309</td>\n",
       "      <td>2</td>\n",
       "      <td>1</td>\n",
       "      <td>0</td>\n",
       "    </tr>\n",
       "    <tr>\n",
       "      <td>Abelson, Mrs. Samuel (Hannah Wizosky)</td>\n",
       "      <td>28.0</td>\n",
       "      <td>24.0000</td>\n",
       "      <td>0</td>\n",
       "      <td>875</td>\n",
       "      <td>2</td>\n",
       "      <td>1</td>\n",
       "      <td>1</td>\n",
       "    </tr>\n",
       "    <tr>\n",
       "      <td>...</td>\n",
       "      <td>...</td>\n",
       "      <td>...</td>\n",
       "      <td>...</td>\n",
       "      <td>...</td>\n",
       "      <td>...</td>\n",
       "      <td>...</td>\n",
       "      <td>...</td>\n",
       "    </tr>\n",
       "    <tr>\n",
       "      <td>de Messemaeker, Mrs. Guillaume Joseph (Emma)</td>\n",
       "      <td>36.0</td>\n",
       "      <td>17.4000</td>\n",
       "      <td>0</td>\n",
       "      <td>560</td>\n",
       "      <td>3</td>\n",
       "      <td>1</td>\n",
       "      <td>1</td>\n",
       "    </tr>\n",
       "    <tr>\n",
       "      <td>de Mulder, Mr. Theodore</td>\n",
       "      <td>30.0</td>\n",
       "      <td>9.5000</td>\n",
       "      <td>0</td>\n",
       "      <td>287</td>\n",
       "      <td>3</td>\n",
       "      <td>0</td>\n",
       "      <td>1</td>\n",
       "    </tr>\n",
       "    <tr>\n",
       "      <td>de Pelsmaeker, Mr. Alfons</td>\n",
       "      <td>16.0</td>\n",
       "      <td>9.5000</td>\n",
       "      <td>0</td>\n",
       "      <td>283</td>\n",
       "      <td>3</td>\n",
       "      <td>0</td>\n",
       "      <td>0</td>\n",
       "    </tr>\n",
       "    <tr>\n",
       "      <td>del Carlo, Mr. Sebastiano</td>\n",
       "      <td>29.0</td>\n",
       "      <td>27.7208</td>\n",
       "      <td>0</td>\n",
       "      <td>362</td>\n",
       "      <td>2</td>\n",
       "      <td>1</td>\n",
       "      <td>0</td>\n",
       "    </tr>\n",
       "    <tr>\n",
       "      <td>van Billiard, Mr. Austin Blyler</td>\n",
       "      <td>40.5</td>\n",
       "      <td>14.5000</td>\n",
       "      <td>2</td>\n",
       "      <td>154</td>\n",
       "      <td>3</td>\n",
       "      <td>0</td>\n",
       "      <td>0</td>\n",
       "    </tr>\n",
       "  </tbody>\n",
       "</table>\n",
       "<p>714 rows × 6 columns</p>\n",
       "</div>"
      ],
      "text/plain": [
       "                                                      Fare  Parch  \\\n",
       "Name                                         Age                    \n",
       "Abbing, Mr. Anthony                          42.0   7.5500      0   \n",
       "Abbott, Mr. Rossmore Edward                  16.0  20.2500      1   \n",
       "Abbott, Mrs. Stanton (Rosa Hunt)             35.0  20.2500      1   \n",
       "Abelson, Mr. Samuel                          30.0  24.0000      0   \n",
       "Abelson, Mrs. Samuel (Hannah Wizosky)        28.0  24.0000      0   \n",
       "...                                                    ...    ...   \n",
       "de Messemaeker, Mrs. Guillaume Joseph (Emma) 36.0  17.4000      0   \n",
       "de Mulder, Mr. Theodore                      30.0   9.5000      0   \n",
       "de Pelsmaeker, Mr. Alfons                    16.0   9.5000      0   \n",
       "del Carlo, Mr. Sebastiano                    29.0  27.7208      0   \n",
       "van Billiard, Mr. Austin Blyler              40.5  14.5000      2   \n",
       "\n",
       "                                                   PassengerId  Pclass  SibSp  \\\n",
       "Name                                         Age                                \n",
       "Abbing, Mr. Anthony                          42.0          846       3      0   \n",
       "Abbott, Mr. Rossmore Edward                  16.0          747       3      1   \n",
       "Abbott, Mrs. Stanton (Rosa Hunt)             35.0          280       3      1   \n",
       "Abelson, Mr. Samuel                          30.0          309       2      1   \n",
       "Abelson, Mrs. Samuel (Hannah Wizosky)        28.0          875       2      1   \n",
       "...                                                        ...     ...    ...   \n",
       "de Messemaeker, Mrs. Guillaume Joseph (Emma) 36.0          560       3      1   \n",
       "de Mulder, Mr. Theodore                      30.0          287       3      0   \n",
       "de Pelsmaeker, Mr. Alfons                    16.0          283       3      0   \n",
       "del Carlo, Mr. Sebastiano                    29.0          362       2      1   \n",
       "van Billiard, Mr. Austin Blyler              40.5          154       3      0   \n",
       "\n",
       "                                                   Survived  \n",
       "Name                                         Age             \n",
       "Abbing, Mr. Anthony                          42.0         0  \n",
       "Abbott, Mr. Rossmore Edward                  16.0         0  \n",
       "Abbott, Mrs. Stanton (Rosa Hunt)             35.0         1  \n",
       "Abelson, Mr. Samuel                          30.0         0  \n",
       "Abelson, Mrs. Samuel (Hannah Wizosky)        28.0         1  \n",
       "...                                                     ...  \n",
       "de Messemaeker, Mrs. Guillaume Joseph (Emma) 36.0         1  \n",
       "de Mulder, Mr. Theodore                      30.0         1  \n",
       "de Pelsmaeker, Mr. Alfons                    16.0         0  \n",
       "del Carlo, Mr. Sebastiano                    29.0         0  \n",
       "van Billiard, Mr. Austin Blyler              40.5         0  \n",
       "\n",
       "[714 rows x 6 columns]"
      ]
     },
     "execution_count": 40,
     "metadata": {},
     "output_type": "execute_result"
    }
   ],
   "source": [
    "import pandas as pd\n",
    "import numpy as np\n",
    "titanic=pd.read_csv('titanic.csv')# csv file in my folder\n",
    "titanic_tbl=pd.pivot_table(titanic,index=['Name','Age'])\n",
    "titanic_tbl"
   ]
  },
  {
   "cell_type": "markdown",
   "metadata": {},
   "source": [
    "# 7)program 3X3 matrix with range 2,10"
   ]
  },
  {
   "cell_type": "code",
   "execution_count": 22,
   "metadata": {},
   "outputs": [
    {
     "name": "stdout",
     "output_type": "stream",
     "text": [
      "2\n",
      "11\n"
     ]
    },
    {
     "data": {
      "text/plain": [
       "array([[ 2,  3,  4],\n",
       "       [ 5,  6,  7],\n",
       "       [ 8,  9, 10]])"
      ]
     },
     "execution_count": 22,
     "metadata": {},
     "output_type": "execute_result"
    }
   ],
   "source": [
    "import numpy as np\n",
    "st=int(input())\n",
    "ed=int(input())\n",
    "a=np.arange(st,ed).reshape(3,3)\n",
    "a"
   ]
  },
  {
   "cell_type": "markdown",
   "metadata": {},
   "source": [
    "# 8) programto illustrate diff between revel and flatten by tlking multidimensional array?"
   ]
  },
  {
   "cell_type": "code",
   "execution_count": 28,
   "metadata": {},
   "outputs": [
    {
     "name": "stdout",
     "output_type": "stream",
     "text": [
      "[1 2 3 4 5 6 7 8 9]\n",
      "[1 2 3 4 5 6 7 8 9]\n"
     ]
    }
   ],
   "source": [
    "import numpy as np\n",
    "x=np.array(((1,2,3),(4,5,6),(7,8,9)))\n",
    "print(x.ravel())\n",
    "print(x.flatten())\n",
    "# flatten returns a new array(copy array)\n",
    "# ravel sometimes returns same array(view of array)\n"
   ]
  },
  {
   "cell_type": "markdown",
   "metadata": {},
   "source": [
    "# 9)program to create numpy array and fining min,max,and indices and statistical methods"
   ]
  },
  {
   "cell_type": "code",
   "execution_count": 36,
   "metadata": {},
   "outputs": [
    {
     "name": "stdout",
     "output_type": "stream",
     "text": [
      "[[0.33771082 0.77432316 0.06936581 0.9837693 ]\n",
      " [0.82005012 0.82717833 0.80268164 0.9148309 ]\n",
      " [0.35640116 0.3182811  0.15620812 0.022522  ]]\n",
      "minimum 0.02252200225230372\n",
      "maximum 0.9837692966262822\n",
      "indics [[0.33771082 0.77432316 0.06936581]\n",
      " [0.82005012 0.82717833 0.80268164]\n",
      " [0.35640116 0.3182811  0.15620812]]\n"
     ]
    }
   ],
   "source": [
    "import numpy as np\n",
    "x=np.random.random((3,4))\n",
    "print(x)\n",
    "mini=x.min()\n",
    "print(\"minimum\",mini)\n",
    "maxi=x.max()\n",
    "print(\"maximum\",maxi)\n",
    "print(\"indics\",x[:,:3])"
   ]
  },
  {
   "cell_type": "code",
   "execution_count": null,
   "metadata": {},
   "outputs": [],
   "source": []
  },
  {
   "cell_type": "code",
   "execution_count": null,
   "metadata": {},
   "outputs": [],
   "source": []
  }
 ],
 "metadata": {
  "kernelspec": {
   "display_name": "Python 3",
   "language": "python",
   "name": "python3"
  },
  "language_info": {
   "codemirror_mode": {
    "name": "ipython",
    "version": 3
   },
   "file_extension": ".py",
   "mimetype": "text/x-python",
   "name": "python",
   "nbconvert_exporter": "python",
   "pygments_lexer": "ipython3",
   "version": "3.7.3"
  }
 },
 "nbformat": 4,
 "nbformat_minor": 2
}
