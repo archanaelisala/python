{
 "cells": [
  {
   "cell_type": "code",
   "execution_count": 1,
   "metadata": {},
   "outputs": [],
   "source": [
    "def sample():\n",
    "    print(\"hello world\")"
   ]
  },
  {
   "cell_type": "code",
   "execution_count": 2,
   "metadata": {},
   "outputs": [
    {
     "name": "stdout",
     "output_type": "stream",
     "text": [
      "hello world\n"
     ]
    }
   ],
   "source": [
    "def sample():\n",
    "    print(\"hello world\")\n",
    "sample()"
   ]
  },
  {
   "cell_type": "code",
   "execution_count": 2,
   "metadata": {},
   "outputs": [
    {
     "name": "stdout",
     "output_type": "stream",
     "text": [
      "hello world India\n"
     ]
    }
   ],
   "source": [
    "# function with parameter\n",
    "#name = input()\n",
    "def sample(country='India'):\n",
    "    print(\"hello world \"+country)\n",
    "sample('India')"
   ]
  },
  {
   "cell_type": "code",
   "execution_count": 10,
   "metadata": {},
   "outputs": [
    {
     "name": "stdout",
     "output_type": "stream",
     "text": [
      "anu\n",
      "welcome to SPMVV anu\n"
     ]
    }
   ],
   "source": [
    "name = input()\n",
    "def sample(name):\n",
    "    print(\"welcome to SPMVV \"+name)\n",
    "sample(name)"
   ]
  },
  {
   "cell_type": "code",
   "execution_count": 11,
   "metadata": {},
   "outputs": [
    {
     "name": "stdout",
     "output_type": "stream",
     "text": [
      "apple\n",
      "orange\n",
      "banana\n"
     ]
    }
   ],
   "source": [
    "#passing a list as parameter\n",
    "def ex(food):\n",
    "    for i in food:\n",
    "        print(i)\n",
    "food = ['apple','orange','banana']\n",
    "ex(food)\n",
    "    "
   ]
  },
  {
   "cell_type": "code",
   "execution_count": 13,
   "metadata": {},
   "outputs": [
    {
     "name": "stdout",
     "output_type": "stream",
     "text": [
      "anu\n",
      "apssdc\n"
     ]
    }
   ],
   "source": [
    "#passing a list as parameter\n",
    "def ex(food):\n",
    "    for i in food:\n",
    "        #print(i)\n",
    "        print(food[i])\n",
    "food = {'name':'anu','org':'apssdc'}\n",
    "ex(food)\n",
    "    "
   ]
  },
  {
   "cell_type": "code",
   "execution_count": 14,
   "metadata": {},
   "outputs": [
    {
     "data": {
      "text/plain": [
       "625"
      ]
     },
     "execution_count": 14,
     "metadata": {},
     "output_type": "execute_result"
    }
   ],
   "source": [
    "#retun values\n",
    "def return_val():\n",
    "    return 5**4\n",
    "return_val()"
   ]
  },
  {
   "cell_type": "code",
   "execution_count": 15,
   "metadata": {},
   "outputs": [
    {
     "data": {
      "text/plain": [
       "50"
      ]
     },
     "execution_count": 15,
     "metadata": {},
     "output_type": "execute_result"
    }
   ],
   "source": [
    "#retun values\n",
    "def return_val(x):\n",
    "    return x*5\n",
    "return_val(10)"
   ]
  },
  {
   "cell_type": "code",
   "execution_count": 17,
   "metadata": {},
   "outputs": [
    {
     "name": "stdout",
     "output_type": "stream",
     "text": [
      "10\n"
     ]
    },
    {
     "data": {
      "text/plain": [
       "15"
      ]
     },
     "execution_count": 17,
     "metadata": {},
     "output_type": "execute_result"
    }
   ],
   "source": [
    "#retun values\n",
    "x = int(input())\n",
    "def return_val(x):\n",
    "    return x+5\n",
    "return_val(x)"
   ]
  },
  {
   "cell_type": "code",
   "execution_count": 25,
   "metadata": {},
   "outputs": [
    {
     "data": {
      "text/plain": [
       "'name is anu age is: 25 org is:apssdc'"
      ]
     },
     "execution_count": 25,
     "metadata": {},
     "output_type": "execute_result"
    }
   ],
   "source": [
    "## keyword arguments\n",
    "def key_word(name,age,org):\n",
    "    return 'name is '+name+\" age is: \"+age+\" org is:\"+org\n",
    "\n",
    "#key_word('25','anu','apssdc')\n",
    "#key_word(name='anu',age='25',org='apssdc')\n",
    "key_word(age='25',name='anu',org='apssdc')"
   ]
  },
  {
   "cell_type": "code",
   "execution_count": 7,
   "metadata": {},
   "outputs": [
    {
     "name": "stdout",
     "output_type": "stream",
     "text": [
      "anu\n",
      "chinnu\n",
      "anuchinnu\n"
     ]
    }
   ],
   "source": [
    "#variable length arguments\n",
    "def var_len(*arg):\n",
    "    for i in arg:\n",
    "        print(i)\n",
    "    #return arg\n",
    "var_len('anu','chinnu','anuchinnu')"
   ]
  },
  {
   "cell_type": "code",
   "execution_count": 17,
   "metadata": {},
   "outputs": [
    {
     "name": "stdout",
     "output_type": "stream",
     "text": [
      "anu\n",
      "chinnu\n"
     ]
    }
   ],
   "source": [
    "#variable length arguments\n",
    "def var_len(*arg):\n",
    "    for i in l:\n",
    "        print(i)\n",
    "    #return arg\n",
    "#l = input().split()\n",
    "var_len()"
   ]
  },
  {
   "cell_type": "markdown",
   "metadata": {},
   "source": [
    "### functions\n",
    "1. user_defined\n",
    "    * required arg\n",
    "    * default arguments\n",
    "    * keyword arguments\n",
    "    * variable length\n",
    "2. built_in\n",
    "    * sum\n",
    "    * len\n",
    "    * min\n",
    "    * max\n",
    "    "
   ]
  },
  {
   "cell_type": "code",
   "execution_count": 3,
   "metadata": {
    "collapsed": true
   },
   "outputs": [
    {
     "ename": "SyntaxError",
     "evalue": "invalid syntax (<ipython-input-3-8084d7e81f75>, line 4)",
     "output_type": "error",
     "traceback": [
      "\u001b[1;36m  File \u001b[1;32m\"<ipython-input-3-8084d7e81f75>\"\u001b[1;36m, line \u001b[1;32m4\u001b[0m\n\u001b[1;33m    body of function(task)\u001b[0m\n\u001b[1;37m          ^\u001b[0m\n\u001b[1;31mSyntaxError\u001b[0m\u001b[1;31m:\u001b[0m invalid syntax\n"
     ]
    }
   ],
   "source": [
    "# syntax\n",
    "\n",
    "def function_name():\n",
    "    body of function(task)\n",
    "function_name"
   ]
  },
  {
   "cell_type": "code",
   "execution_count": 4,
   "metadata": {},
   "outputs": [],
   "source": [
    "def sample():\n",
    "    print(\"welcome\")"
   ]
  },
  {
   "cell_type": "code",
   "execution_count": 5,
   "metadata": {},
   "outputs": [
    {
     "name": "stdout",
     "output_type": "stream",
     "text": [
      "welcome to vec\n"
     ]
    }
   ],
   "source": [
    "def sample():\n",
    "    print(\"welcome to vec\")\n",
    "sample()"
   ]
  },
  {
   "cell_type": "code",
   "execution_count": 6,
   "metadata": {},
   "outputs": [
    {
     "name": "stdout",
     "output_type": "stream",
     "text": [
      "welcome to VIC anu\n"
     ]
    }
   ],
   "source": [
    "# function with required arguments\n",
    "\n",
    "def sample1(name):\n",
    "    print('welcome to VIC',name)\n",
    "sample1('anu')"
   ]
  },
  {
   "cell_type": "code",
   "execution_count": 8,
   "metadata": {},
   "outputs": [
    {
     "name": "stdout",
     "output_type": "stream",
     "text": [
      "anu\n",
      "welcome to VIC archana\n"
     ]
    }
   ],
   "source": [
    "name = input()\n",
    "def sample1(name):\n",
    "    print('welcome to VIC',name)\n",
    "sample1('archana')"
   ]
  },
  {
   "cell_type": "code",
   "execution_count": 16,
   "metadata": {},
   "outputs": [
    {
     "name": "stdout",
     "output_type": "stream",
     "text": [
      "anu\n",
      "name is:  anu age is:  23\n"
     ]
    }
   ],
   "source": [
    "# function with default arg\n",
    "name = input()\n",
    "def defu(name,age=23):\n",
    "    print(\"name is: \",name,\"age is: \",age)\n",
    "defu(name)"
   ]
  },
  {
   "cell_type": "code",
   "execution_count": 17,
   "metadata": {},
   "outputs": [
    {
     "name": "stdout",
     "output_type": "stream",
     "text": [
      "name is:  archana\n",
      "age is 25\n",
      "org is apssdc\n"
     ]
    }
   ],
   "source": [
    "#function with keyword arg\n",
    "\n",
    "def key(name,age,org):\n",
    "    print('name is: ',name)\n",
    "    print('age is',age)\n",
    "    print('org is',org)\n",
    "key(name='archana',org='apssdc',age=25)"
   ]
  },
  {
   "cell_type": "code",
   "execution_count": 18,
   "metadata": {},
   "outputs": [
    {
     "name": "stdout",
     "output_type": "stream",
     "text": [
      "name is:  25\n",
      "age is anu\n",
      "org is apssdc\n"
     ]
    }
   ],
   "source": [
    "def key(name,age,org):\n",
    "    print('name is: ',name)\n",
    "    print('age is',age)\n",
    "    print('org is',org)\n",
    "key(25,'anu','apssdc')"
   ]
  },
  {
   "cell_type": "code",
   "execution_count": 28,
   "metadata": {},
   "outputs": [
    {
     "name": "stdout",
     "output_type": "stream",
     "text": [
      "anu chinnu anuchinnu\n",
      "['anu', 'chinnu', 'anuchinnu']\n",
      "anu\n"
     ]
    }
   ],
   "source": [
    "# function with variable length\n",
    "s = input().split()\n",
    "def variable(*arg):\n",
    "    print(s[0])\n",
    "variable(s)"
   ]
  },
  {
   "cell_type": "code",
   "execution_count": 25,
   "metadata": {},
   "outputs": [],
   "source": [
    "def sa():\n",
    "    pass"
   ]
  },
  {
   "cell_type": "code",
   "execution_count": 31,
   "metadata": {},
   "outputs": [
    {
     "name": "stdout",
     "output_type": "stream",
     "text": [
      "1 2 3 4\n",
      "[1, 2, 3, 4]\n",
      "[20, 2, 3, 4]\n"
     ]
    }
   ],
   "source": [
    "s = list(map(int,input().split()))\n",
    "def key1(s):\n",
    "    s[0] = 20\n",
    "print(s)\n",
    "key1(s)\n",
    "print(s)"
   ]
  },
  {
   "cell_type": "code",
   "execution_count": 36,
   "metadata": {},
   "outputs": [
    {
     "name": "stdout",
     "output_type": "stream",
     "text": [
      "10 20\n",
      "10 20\n"
     ]
    }
   ],
   "source": [
    "a,b = 10,20\n",
    "def swap(a,b):\n",
    "    c = a\n",
    "    a = b\n",
    "    b = c\n",
    "print(a,b)\n",
    "swap(a,b)\n",
    "print(a,b)"
   ]
  },
  {
   "cell_type": "code",
   "execution_count": null,
   "metadata": {},
   "outputs": [],
   "source": []
  }
 ],
 "metadata": {
  "kernelspec": {
   "display_name": "Python 3",
   "language": "python",
   "name": "python3"
  },
  "language_info": {
   "codemirror_mode": {
    "name": "ipython",
    "version": 3
   },
   "file_extension": ".py",
   "mimetype": "text/x-python",
   "name": "python",
   "nbconvert_exporter": "python",
   "pygments_lexer": "ipython3",
   "version": "3.7.3"
  }
 },
 "nbformat": 4,
 "nbformat_minor": 2
}
